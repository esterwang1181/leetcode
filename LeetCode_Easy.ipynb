{
 "cells": [
  {
   "cell_type": "code",
   "execution_count": 58,
   "metadata": {},
   "outputs": [
    {
     "data": {
      "text/plain": [
       "[0, 1]"
      ]
     },
     "execution_count": 58,
     "metadata": {},
     "output_type": "execute_result"
    }
   ],
   "source": [
    "def TwoSum(num, target):\n",
    "    seen = {}\n",
    "    for i, v in enumerate(num):\n",
    "        rem = target - v\n",
    "        if rem in seen:\n",
    "            return [seen[rem],i]\n",
    "        seen[v] = i\n",
    "    return []\n",
    "\n",
    "TwoSum([2,7,11,15],9)\n"
   ]
  },
  {
   "cell_type": "code",
   "execution_count": 64,
   "metadata": {},
   "outputs": [
    {
     "data": {
      "text/plain": [
       "-521"
      ]
     },
     "execution_count": 64,
     "metadata": {},
     "output_type": "execute_result"
    }
   ],
   "source": [
    "def reverseInteger(integer):\n",
    "    if str(integer)[0]=='-':\n",
    "        return int('-'+str(integer)[1:][::-1])\n",
    "    else:\n",
    "        return int(str(integer)[::-1])\n",
    "\n",
    "a= -1250\n",
    "reverseInteger(a)"
   ]
  },
  {
   "cell_type": "code",
   "execution_count": 6,
   "metadata": {},
   "outputs": [
    {
     "name": "stdout",
     "output_type": "stream",
     "text": [
      "-5421\n"
     ]
    }
   ],
   "source": [
    "# efficient method: reverse Integer\n",
    "x = -1245\n",
    "if x > 0:\n",
    "    sign = 1\n",
    "else:\n",
    "    sign =-1\n",
    "\n",
    "a= x*sign\n",
    "rev = 0\n",
    "while a!=0:\n",
    "    pop = a%10\n",
    "    a = a // 10\n",
    "    temp = rev * 10 + pop\n",
    "    rev = temp\n",
    "\n",
    "print(rev*sign)"
   ]
  },
  {
   "cell_type": "code",
   "execution_count": 165,
   "metadata": {},
   "outputs": [],
   "source": [
    "x = 1234\n",
    "rev=0"
   ]
  },
  {
   "cell_type": "code",
   "execution_count": 178,
   "metadata": {},
   "outputs": [
    {
     "name": "stdout",
     "output_type": "stream",
     "text": [
      "1\n"
     ]
    }
   ],
   "source": [
    "pop = x % 10\n",
    "print(pop)\n",
    "\n",
    "x = x // 10\n",
    "print(x)\n",
    "\n",
    "temp = rev*10+pop\n",
    "print(temp)\n",
    "\n",
    "rev = temp\n",
    "print(temp)"
   ]
  },
  {
   "cell_type": "code",
   "execution_count": 73,
   "metadata": {},
   "outputs": [
    {
     "name": "stdout",
     "output_type": "stream",
     "text": [
      "2\n",
      "1.6666666666666667\n",
      "1\n"
     ]
    }
   ],
   "source": [
    "# python division\n",
    "print(5%3) # mod - remainder\n",
    "print(5/3)\n",
    "print(5//3) # integer division"
   ]
  },
  {
   "cell_type": "code",
   "execution_count": 13,
   "metadata": {},
   "outputs": [
    {
     "data": {
      "text/plain": [
       "False"
      ]
     },
     "execution_count": 13,
     "metadata": {},
     "output_type": "execute_result"
    }
   ],
   "source": [
    "# palindrome integer\n",
    "def palindrom(integer):\n",
    "    if integer < 0: return False\n",
    "    temp = int(str(integer)[::-1])\n",
    "    return temp == integer\n",
    "\n",
    "palindrom(-123210)"
   ]
  },
  {
   "cell_type": "code",
   "execution_count": 23,
   "metadata": {},
   "outputs": [
    {
     "name": "stdout",
     "output_type": "stream",
     "text": [
      "1\n",
      "12\n",
      "123\n",
      "1232\n",
      "12321\n",
      "True\n"
     ]
    }
   ],
   "source": [
    "# palindrome, without string\n",
    "# pop up method\n",
    "integer = 12321\n",
    "rev = 0\n",
    "if integer < 0:  print(False)\n",
    "x = integer\n",
    "while x!=0:\n",
    "    pop = x % 10\n",
    "    x = x //10\n",
    "    tmp = rev * 10 + pop\n",
    "    rev = tmp\n",
    "\n",
    "print(rev==integer)"
   ]
  },
  {
   "cell_type": "code",
   "execution_count": null,
   "metadata": {},
   "outputs": [],
   "source": []
  }
 ],
 "metadata": {
  "kernelspec": {
   "display_name": "Python 3",
   "language": "python",
   "name": "python3"
  },
  "language_info": {
   "codemirror_mode": {
    "name": "ipython",
    "version": 3
   },
   "file_extension": ".py",
   "mimetype": "text/x-python",
   "name": "python",
   "nbconvert_exporter": "python",
   "pygments_lexer": "ipython3",
   "version": "3.6.8"
  }
 },
 "nbformat": 4,
 "nbformat_minor": 2
}
